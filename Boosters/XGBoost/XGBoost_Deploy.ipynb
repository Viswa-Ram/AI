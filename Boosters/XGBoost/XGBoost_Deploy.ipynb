{
 "cells": [
  {
   "cell_type": "code",
   "execution_count": 4,
   "id": "7cf79d7a-078a-4d29-8a20-7ac873c7b737",
   "metadata": {},
   "outputs": [],
   "source": [
    "import pickle\n",
    "loadedModel = pickle.load(open(\"Finalized_XGBoost_Model.sav\",\"rb\")) #reload the model"
   ]
  },
  {
   "cell_type": "code",
   "execution_count": 6,
   "id": "46b99f45-e06d-481a-8191-34085bdca127",
   "metadata": {},
   "outputs": [
    {
     "data": {
      "text/plain": [
       "array([53800.82], dtype=float32)"
      ]
     },
     "execution_count": 6,
     "metadata": {},
     "output_type": "execute_result"
    }
   ],
   "source": [
    "result = loadedModel.predict([[10000,12000,0,0,1]]) #predict with new set of inputs\n",
    "result"
   ]
  },
  {
   "cell_type": "code",
   "execution_count": null,
   "id": "a8311b97-6688-4adc-a28f-f4597f960467",
   "metadata": {},
   "outputs": [],
   "source": []
  }
 ],
 "metadata": {
  "kernelspec": {
   "display_name": "Python [conda env:base] *",
   "language": "python",
   "name": "conda-base-py"
  },
  "language_info": {
   "codemirror_mode": {
    "name": "ipython",
    "version": 3
   },
   "file_extension": ".py",
   "mimetype": "text/x-python",
   "name": "python",
   "nbconvert_exporter": "python",
   "pygments_lexer": "ipython3",
   "version": "3.12.7"
  }
 },
 "nbformat": 4,
 "nbformat_minor": 5
}
