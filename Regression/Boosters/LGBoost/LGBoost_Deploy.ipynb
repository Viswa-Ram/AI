{
 "cells": [
  {
   "cell_type": "code",
   "execution_count": 4,
   "id": "25990a26-b683-47d4-9dc5-23f23588a5fc",
   "metadata": {},
   "outputs": [],
   "source": [
    "import pickle\n",
    "loadedModel = pickle.load(open(\"Finalized_LGBoost_Model.sav\",\"rb\")) #reload the model"
   ]
  },
  {
   "cell_type": "code",
   "execution_count": 6,
   "id": "2e767bf8-4ace-4ee9-9bb3-aa1b832940a2",
   "metadata": {},
   "outputs": [
    {
     "data": {
      "text/plain": [
       "array([42620.89439274])"
      ]
     },
     "execution_count": 6,
     "metadata": {},
     "output_type": "execute_result"
    }
   ],
   "source": [
    "result = loadedModel.predict([[10000,12000,0,0,1]]) #predict with new set of inputs\n",
    "result"
   ]
  },
  {
   "cell_type": "code",
   "execution_count": null,
   "id": "b70bf5ae-41be-4e32-90a2-5cf093357f15",
   "metadata": {},
   "outputs": [],
   "source": []
  }
 ],
 "metadata": {
  "kernelspec": {
   "display_name": "Python [conda env:base] *",
   "language": "python",
   "name": "conda-base-py"
  },
  "language_info": {
   "codemirror_mode": {
    "name": "ipython",
    "version": 3
   },
   "file_extension": ".py",
   "mimetype": "text/x-python",
   "name": "python",
   "nbconvert_exporter": "python",
   "pygments_lexer": "ipython3",
   "version": "3.12.7"
  }
 },
 "nbformat": 4,
 "nbformat_minor": 5
}
