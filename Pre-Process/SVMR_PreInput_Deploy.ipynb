{
 "cells": [
  {
   "cell_type": "code",
   "execution_count": 4,
   "id": "505c253a-6689-44ff-8dc6-a48af54594cd",
   "metadata": {},
   "outputs": [],
   "source": [
    "import pickle\n",
    "import pandas as pd"
   ]
  },
  {
   "cell_type": "code",
   "execution_count": 26,
   "id": "5f9869c6-04bf-4e8b-9c29-3916f8b6de64",
   "metadata": {},
   "outputs": [],
   "source": [
    "# Load the fitted scaler\n",
    "with open('scaler.pkl', 'rb') as f:\n",
    "    sc = pickle.load(f)"
   ]
  },
  {
   "cell_type": "code",
   "execution_count": 28,
   "id": "aa2effdc-9c54-431e-b35e-3f29d5367a9f",
   "metadata": {},
   "outputs": [
    {
     "data": {
      "text/plain": [
       "array([[1.3e+03, 1.2e+04, 4.0e+03, 0.0e+00, 1.0e+00]])"
      ]
     },
     "execution_count": 28,
     "metadata": {},
     "output_type": "execute_result"
    }
   ],
   "source": [
    "preInput = sc.transform([[1300,12000,4000,0,1]])\n",
    "preInput"
   ]
  },
  {
   "cell_type": "code",
   "execution_count": 30,
   "id": "69662813-4483-4543-ab8d-00f3cc005497",
   "metadata": {},
   "outputs": [],
   "source": [
    "loaded_model=pickle.load(open(\"Final_SVR_PreInput_Model.sav\", 'rb'))\n",
    "result=loaded_model.predict(preInput)"
   ]
  },
  {
   "cell_type": "code",
   "execution_count": 32,
   "id": "7371f5af-cf07-4cfd-89b8-44f7833289e5",
   "metadata": {},
   "outputs": [
    {
     "data": {
      "text/plain": [
       "array([402360.2445391])"
      ]
     },
     "execution_count": 32,
     "metadata": {},
     "output_type": "execute_result"
    }
   ],
   "source": [
    "result"
   ]
  },
  {
   "cell_type": "code",
   "execution_count": null,
   "id": "03933c04-224f-436f-aa2f-4e3c42b94cdf",
   "metadata": {},
   "outputs": [],
   "source": []
  }
 ],
 "metadata": {
  "kernelspec": {
   "display_name": "Python [conda env:base] *",
   "language": "python",
   "name": "conda-base-py"
  },
  "language_info": {
   "codemirror_mode": {
    "name": "ipython",
    "version": 3
   },
   "file_extension": ".py",
   "mimetype": "text/x-python",
   "name": "python",
   "nbconvert_exporter": "python",
   "pygments_lexer": "ipython3",
   "version": "3.12.7"
  }
 },
 "nbformat": 4,
 "nbformat_minor": 5
}
